{
 "cells": [
  {
   "cell_type": "markdown",
   "metadata": {},
   "source": [
    "# NumPy\n",
    "\n",
    "S. 89\n",
    "\n",
    "- ndarray\n"
   ]
  },
  {
   "cell_type": "code",
   "execution_count": 2,
   "metadata": {},
   "outputs": [],
   "source": [
    "import numpy as np\n",
    "import time\n",
    "import matplotlib.pyplot as plt\n",
    "\n",
    "from IPython.core.interactiveshell import InteractiveShell\n",
    "InteractiveShell.ast_node_interactivity = \"all\"\n"
   ]
  },
  {
   "cell_type": "code",
   "execution_count": 2,
   "metadata": {},
   "outputs": [
    {
     "data": {
      "text/plain": [
       "array([     0,      1,      2, ..., 999997, 999998, 999999])"
      ]
     },
     "execution_count": 2,
     "metadata": {},
     "output_type": "execute_result"
    }
   ],
   "source": [
    "# Efficiency of ndarrays\n",
    "\n",
    "# https://docs.scipy.org/doc/numpy/reference/generated/numpy.arange.html\n",
    "# https://docs.python.org/3/library/stdtypes.html?highlight=range#range \n",
    "\n",
    "my_nparray = np.arange(1000000)\n",
    "my_list = list(range(1000000))\n",
    "my_nparray"
   ]
  },
  {
   "cell_type": "markdown",
   "metadata": {},
   "source": [
    "## Timing Difference\n",
    "\n",
    "- range... https://www.w3schools.com/python/ref_func_range.asp\n",
    "- _ ... https://hackernoon.com/understanding-the-underscore-of-python-309d1a029edc\n",
    "- print(\"...\", end='...') ... ignores \"Newline\"\n",
    "\n",
    "Wird quasi 10 mal durchlaufen"
   ]
  },
  {
   "cell_type": "code",
   "execution_count": 3,
   "metadata": {},
   "outputs": [
    {
     "name": "stdout",
     "output_type": "stream",
     "text": [
      "Wall time: 25 ms\n"
     ]
    }
   ],
   "source": [
    "%time for _ in range(10): my_array = my_nparray*2"
   ]
  },
  {
   "cell_type": "code",
   "execution_count": 4,
   "metadata": {},
   "outputs": [
    {
     "name": "stdout",
     "output_type": "stream",
     "text": [
      "Wall time: 1.06 s\n"
     ]
    }
   ],
   "source": [
    "%time for _ in range(10): my_list2 = [ x * 2 for x in my_list ]"
   ]
  },
  {
   "cell_type": "code",
   "execution_count": 5,
   "metadata": {},
   "outputs": [
    {
     "name": "stdout",
     "output_type": "stream",
     "text": [
      "Start Execution : \n",
      "Sun Jul  7 16:20:53 2019\n",
      "Stop Execution : 1562509253.4725492\n",
      "Time-Difference: 0.0300905704498291\n"
     ]
    }
   ],
   "source": [
    "t_start = time.time()\n",
    "print (\"Start Execution : \") \n",
    "print (time.ctime()) \n",
    "\n",
    "for _ in range(10): my_array = my_nparray*2\n",
    "    \n",
    "t_end = time.time()\n",
    "print (\"Stop Execution : \",end=\"\") \n",
    "print (t_end) \n",
    "\n",
    "print (\"Time-Difference:\", end=' ')\n",
    "print (t_end-t_start)"
   ]
  },
  {
   "cell_type": "code",
   "execution_count": 6,
   "metadata": {},
   "outputs": [
    {
     "name": "stdout",
     "output_type": "stream",
     "text": [
      "Start Execution : \n",
      "Sun Jul  7 16:20:53 2019\n",
      "Stop Execution : 1562509254.547484\n",
      "Time-Difference: 1.0649387836456299\n"
     ]
    }
   ],
   "source": [
    "t_start = time.time()\n",
    "print (\"Start Execution : \") \n",
    "print (time.ctime()) \n",
    "\n",
    "for _ in range(10): my_list2 = [ x * 2 for x in my_list ]\n",
    "    \n",
    "t_end = time.time()\n",
    "print (\"Stop Execution : \",end=\"\") \n",
    "print (t_end) \n",
    "\n",
    "print (\"Time-Difference:\", end=' ')\n",
    "print (t_end-t_start)"
   ]
  },
  {
   "cell_type": "markdown",
   "metadata": {},
   "source": [
    "## Array Objekt\n",
    "\n",
    "- container (generisch, mehrdimensional)\n",
    "- dtype\n",
    "- shape"
   ]
  },
  {
   "cell_type": "code",
   "execution_count": 7,
   "metadata": {},
   "outputs": [
    {
     "data": {
      "text/plain": [
       "array([[-0.77381054, -0.21272443, -1.26178267],\n",
       "       [ 0.01382636,  0.74031463, -1.32704306]])"
      ]
     },
     "execution_count": 7,
     "metadata": {},
     "output_type": "execute_result"
    }
   ],
   "source": [
    "data = np.random.randn(2,3)\n",
    "data"
   ]
  },
  {
   "cell_type": "code",
   "execution_count": 8,
   "metadata": {},
   "outputs": [
    {
     "data": {
      "text/plain": [
       "array([[-1.54762108, -0.42544885, -2.52356535],\n",
       "       [ 0.02765271,  1.48062926, -2.65408613]])"
      ]
     },
     "execution_count": 8,
     "metadata": {},
     "output_type": "execute_result"
    }
   ],
   "source": [
    "data*2"
   ]
  },
  {
   "cell_type": "code",
   "execution_count": 9,
   "metadata": {},
   "outputs": [
    {
     "data": {
      "text/plain": [
       "(2, 3)"
      ]
     },
     "execution_count": 9,
     "metadata": {},
     "output_type": "execute_result"
    }
   ],
   "source": [
    "data.shape"
   ]
  },
  {
   "cell_type": "code",
   "execution_count": 10,
   "metadata": {},
   "outputs": [
    {
     "data": {
      "text/plain": [
       "dtype('float64')"
      ]
     },
     "execution_count": 10,
     "metadata": {},
     "output_type": "execute_result"
    }
   ],
   "source": [
    "data.dtype"
   ]
  },
  {
   "cell_type": "markdown",
   "metadata": {},
   "source": [
    "### Erzeugen von ndarrays\n",
    "\n",
    "**Allgemeine ndarrays**"
   ]
  },
  {
   "cell_type": "code",
   "execution_count": 11,
   "metadata": {},
   "outputs": [
    {
     "data": {
      "text/plain": [
       "array([ 1,  7,  5, 91])"
      ]
     },
     "execution_count": 11,
     "metadata": {},
     "output_type": "execute_result"
    },
    {
     "name": "stdout",
     "output_type": "stream",
     "text": [
      "type(data1):  <class 'list'>\n",
      "type(array1):  <class 'numpy.ndarray'>\n",
      "dtype:  int32\n"
     ]
    }
   ],
   "source": [
    "data1 = [1,7,5,91]\n",
    "arr1 = np.array(data1)\n",
    "arr1\n",
    "print(\"type(data1): \", type(data1))\n",
    "print(\"type(array1): \",type(arr1))\n",
    "print(\"dtype: \", arr1.dtype)\n"
   ]
  },
  {
   "cell_type": "code",
   "execution_count": 12,
   "metadata": {},
   "outputs": [
    {
     "data": {
      "text/plain": [
       "([1, 2, 3], [4.1, 5.2, 768])"
      ]
     },
     "execution_count": 12,
     "metadata": {},
     "output_type": "execute_result"
    },
    {
     "name": "stdout",
     "output_type": "stream",
     "text": [
      "type:  <class 'tuple'>\n",
      "len:  2\n"
     ]
    },
    {
     "data": {
      "text/plain": [
       "array([[  1. ,   2. ,   3. ],\n",
       "       [  4.1,   5.2, 768. ]])"
      ]
     },
     "execution_count": 12,
     "metadata": {},
     "output_type": "execute_result"
    },
    {
     "name": "stdout",
     "output_type": "stream",
     "text": [
      "type:  <class 'numpy.ndarray'>\n",
      "shape:  (2, 3)\n",
      "dtype:  float64\n"
     ]
    }
   ],
   "source": [
    "data2 = ([1,2,3],[4.1,5.2,768])\n",
    "arr2 = np.array(data2)\n",
    "\n",
    "data2\n",
    "print(\"type: \", type(data2))\n",
    "print(\"len: \", len(data2))\n",
    "\n",
    "arr2\n",
    "print(\"type: \", type(arr2))\n",
    "print(\"shape: \", arr2.shape)\n",
    "print(\"dtype: \", arr2.dtype)"
   ]
  },
  {
   "cell_type": "code",
   "execution_count": 13,
   "metadata": {},
   "outputs": [
    {
     "data": {
      "text/plain": [
       "array([list([1, 2, 3]), list([4, 5, 6.0, 5])], dtype=object)"
      ]
     },
     "execution_count": 13,
     "metadata": {},
     "output_type": "execute_result"
    }
   ],
   "source": [
    "arr_test = np.array([[1,2,3],[4,5,6.0,5]])\n",
    "arr_test\n"
   ]
  },
  {
   "cell_type": "markdown",
   "metadata": {},
   "source": [
    "**zeroes, ones, empty**"
   ]
  },
  {
   "cell_type": "code",
   "execution_count": 14,
   "metadata": {},
   "outputs": [
    {
     "data": {
      "text/plain": [
       "array([0., 0., 0., 0., 0., 0., 0., 0., 0., 0.])"
      ]
     },
     "execution_count": 14,
     "metadata": {},
     "output_type": "execute_result"
    },
    {
     "data": {
      "text/plain": [
       "array([[[1., 1., 1.],\n",
       "        [1., 1., 1.]],\n",
       "\n",
       "       [[1., 1., 1.],\n",
       "        [1., 1., 1.]],\n",
       "\n",
       "       [[1., 1., 1.],\n",
       "        [1., 1., 1.]],\n",
       "\n",
       "       [[1., 1., 1.],\n",
       "        [1., 1., 1.]]])"
      ]
     },
     "execution_count": 14,
     "metadata": {},
     "output_type": "execute_result"
    },
    {
     "name": "stdout",
     "output_type": "stream",
     "text": [
      "shape:  (2, 3, 2, 4)\n"
     ]
    }
   ],
   "source": [
    "np.zeros(10)\n",
    "np.ones((4,2,3))\n",
    "\n",
    "emp = np.empty((2,3,2,4))\n",
    "#emp\n",
    "print(\"shape: \", emp.shape)"
   ]
  },
  {
   "cell_type": "markdown",
   "metadata": {},
   "source": [
    "### Casting\n",
    "Umwandeln von Datentypen"
   ]
  },
  {
   "cell_type": "code",
   "execution_count": 15,
   "metadata": {},
   "outputs": [
    {
     "data": {
      "text/plain": [
       "dtype('int32')"
      ]
     },
     "execution_count": 15,
     "metadata": {},
     "output_type": "execute_result"
    },
    {
     "data": {
      "text/plain": [
       "array([[ 2.,  3.,  4.],\n",
       "       [ 5., 63.,  1.]])"
      ]
     },
     "execution_count": 15,
     "metadata": {},
     "output_type": "execute_result"
    },
    {
     "data": {
      "text/plain": [
       "dtype('float64')"
      ]
     },
     "execution_count": 15,
     "metadata": {},
     "output_type": "execute_result"
    }
   ],
   "source": [
    "\n",
    "arr3 = np.array([[2,3,4],[5,63,1]])\n",
    "#arr3\n",
    "#arr3.shape\n",
    "arr3.dtype\n",
    "arr4 = arr3.astype(np.float64)\n",
    "arr4\n",
    "arr4.dtype\n"
   ]
  },
  {
   "cell_type": "markdown",
   "metadata": {},
   "source": [
    "### Rechnen mit nparrays\n",
    "- komponentenweise\n",
    "- auch boolsche Vergleiche möglich"
   ]
  },
  {
   "cell_type": "code",
   "execution_count": 16,
   "metadata": {},
   "outputs": [
    {
     "data": {
      "text/plain": [
       "array([[1., 2., 3.],\n",
       "       [4., 5., 6.]])"
      ]
     },
     "execution_count": 16,
     "metadata": {},
     "output_type": "execute_result"
    },
    {
     "data": {
      "text/plain": [
       "array([[0.5, 1. , 1.5],\n",
       "       [2. , 2.5, 3. ]])"
      ]
     },
     "execution_count": 16,
     "metadata": {},
     "output_type": "execute_result"
    },
    {
     "data": {
      "text/plain": [
       "array([[3. , 1. , 5. ],\n",
       "       [7. , 1. , 1.3]])"
      ]
     },
     "execution_count": 16,
     "metadata": {},
     "output_type": "execute_result"
    },
    {
     "data": {
      "text/plain": [
       "array([[ True, False,  True],\n",
       "       [ True, False, False]])"
      ]
     },
     "execution_count": 16,
     "metadata": {},
     "output_type": "execute_result"
    }
   ],
   "source": [
    "arr5 = np.array([[1,2,3],[4,5,6.0]]); arr5\n",
    "arr5 / 2\n",
    "arr6 = np.array([[3,1,5],[7,1,1.3]]); arr6\n",
    "arr5 < arr6"
   ]
  },
  {
   "cell_type": "markdown",
   "metadata": {},
   "source": [
    "### Indizieren & Slicing\n",
    "- Views (numpy legt keine Kopien an!)\n",
    "- mehrndimensionale Indizierung\n"
   ]
  },
  {
   "cell_type": "code",
   "execution_count": 17,
   "metadata": {},
   "outputs": [
    {
     "data": {
      "text/plain": [
       "array([0, 1, 2, 3, 4, 5, 6, 7, 8, 9])"
      ]
     },
     "execution_count": 17,
     "metadata": {},
     "output_type": "execute_result"
    },
    {
     "data": {
      "text/plain": [
       "array([3, 4, 5])"
      ]
     },
     "execution_count": 17,
     "metadata": {},
     "output_type": "execute_result"
    }
   ],
   "source": [
    "arr7 = np.arange(10); arr7\n",
    "arr7[3:6]"
   ]
  },
  {
   "cell_type": "code",
   "execution_count": 18,
   "metadata": {},
   "outputs": [
    {
     "data": {
      "text/plain": [
       "array([1, 2, 3])"
      ]
     },
     "execution_count": 18,
     "metadata": {},
     "output_type": "execute_result"
    },
    {
     "data": {
      "text/plain": [
       "array([ 1, 41, 41])"
      ]
     },
     "execution_count": 18,
     "metadata": {},
     "output_type": "execute_result"
    },
    {
     "data": {
      "text/plain": [
       "array([ 0,  1, 41, 41,  4,  5,  6,  7,  8,  9])"
      ]
     },
     "execution_count": 18,
     "metadata": {},
     "output_type": "execute_result"
    }
   ],
   "source": [
    "arr_slice1 = arr7[1:4]; arr_slice1\n",
    "arr_slice1[1:3] = 41\n",
    "arr_slice1\n",
    "\n",
    "arr7\n",
    "# wurde als auf original angewendet (keine kopie erstellt!!!)"
   ]
  },
  {
   "cell_type": "code",
   "execution_count": 19,
   "metadata": {},
   "outputs": [
    {
     "data": {
      "text/plain": [
       "array([[[ 1,  2,  3],\n",
       "        [ 4,  5,  6]],\n",
       "\n",
       "       [[ 7,  8,  9],\n",
       "        [10, 11, 12]]])"
      ]
     },
     "execution_count": 19,
     "metadata": {},
     "output_type": "execute_result"
    },
    {
     "data": {
      "text/plain": [
       "(2, 2, 3)"
      ]
     },
     "execution_count": 19,
     "metadata": {},
     "output_type": "execute_result"
    }
   ],
   "source": [
    "arr3d = np.array([[[1,2,3],[4,5,6]],[[7,8,9],[10,11,12]]])\n",
    "arr3d\n",
    "arr3d.shape"
   ]
  },
  {
   "cell_type": "code",
   "execution_count": 20,
   "metadata": {},
   "outputs": [
    {
     "data": {
      "text/plain": [
       "array([7, 8, 9])"
      ]
     },
     "execution_count": 20,
     "metadata": {},
     "output_type": "execute_result"
    },
    {
     "data": {
      "text/plain": [
       "array([[1, 2, 3],\n",
       "       [4, 5, 6]])"
      ]
     },
     "execution_count": 20,
     "metadata": {},
     "output_type": "execute_result"
    },
    {
     "data": {
      "text/plain": [
       "array([4, 5, 6])"
      ]
     },
     "execution_count": 20,
     "metadata": {},
     "output_type": "execute_result"
    }
   ],
   "source": [
    "arr3d[1,0]\n",
    "\n",
    "x = arr3d[0]\n",
    "x\n",
    "y = x[1]\n",
    "y"
   ]
  },
  {
   "cell_type": "markdown",
   "metadata": {},
   "source": [
    "## Programmieren mit Arrays "
   ]
  },
  {
   "cell_type": "code",
   "execution_count": 21,
   "metadata": {},
   "outputs": [
    {
     "data": {
      "text/plain": [
       "dtype('float64')"
      ]
     },
     "execution_count": 21,
     "metadata": {},
     "output_type": "execute_result"
    },
    {
     "data": {
      "text/plain": [
       "(1000, 1000)"
      ]
     },
     "execution_count": 21,
     "metadata": {},
     "output_type": "execute_result"
    },
    {
     "data": {
      "text/plain": [
       "array([[-5.  , -5.  , -5.  , ..., -5.  , -5.  , -5.  ],\n",
       "       [-4.99, -4.99, -4.99, ..., -4.99, -4.99, -4.99],\n",
       "       [-4.98, -4.98, -4.98, ..., -4.98, -4.98, -4.98],\n",
       "       ...,\n",
       "       [ 4.97,  4.97,  4.97, ...,  4.97,  4.97,  4.97],\n",
       "       [ 4.98,  4.98,  4.98, ...,  4.98,  4.98,  4.98],\n",
       "       [ 4.99,  4.99,  4.99, ...,  4.99,  4.99,  4.99]])"
      ]
     },
     "execution_count": 21,
     "metadata": {},
     "output_type": "execute_result"
    }
   ],
   "source": [
    "points = np.arange(-5,5,0.01)\n",
    "xs, ys = np.meshgrid(points, points)\n",
    "\n",
    "\n",
    "xs.dtype\n",
    "xs.shape\n",
    "ys\n",
    "\n",
    "z = np.sqrt(xs**2 + ys**2)"
   ]
  },
  {
   "cell_type": "code",
   "execution_count": 22,
   "metadata": {},
   "outputs": [],
   "source": [
    "#  ?np.meshgrid"
   ]
  },
  {
   "cell_type": "code",
   "execution_count": 23,
   "metadata": {},
   "outputs": [
    {
     "data": {
      "text/plain": [
       "<matplotlib.image.AxesImage at 0x1034e990>"
      ]
     },
     "execution_count": 23,
     "metadata": {},
     "output_type": "execute_result"
    },
    {
     "data": {
      "text/plain": [
       "<matplotlib.colorbar.Colorbar at 0xe459ab0>"
      ]
     },
     "execution_count": 23,
     "metadata": {},
     "output_type": "execute_result"
    },
    {
     "data": {
      "text/plain": [
       "Text(0.5, 1.0, 'Image plot of $\\\\sqrt{x^2+y^2}$ for a grid of values')"
      ]
     },
     "execution_count": 23,
     "metadata": {},
     "output_type": "execute_result"
    },
    {
     "data": {
      "image/png": "[encoded data removed]",
      "text/plain": [
       "<Figure size 432x288 with 2 Axes>"
      ]
     },
     "metadata": {
      "needs_background": "light"
     },
     "output_type": "display_data"
    }
   ],
   "source": [
    "plt.imshow(z, cmap=plt.cm.gray); plt.colorbar()\n",
    "plt.title('Image plot of $\\sqrt{x^2+y^2}$ for a grid of values')"
   ]
  },
  {
   "cell_type": "markdown",
   "metadata": {},
   "source": [
    "## Bedingte Logik!\n",
    "- wichtige Beispiele: negative Werte ersetzen"
   ]
  },
  {
   "cell_type": "code",
   "execution_count": 24,
   "metadata": {},
   "outputs": [
    {
     "data": {
      "text/plain": [
       "array([[-1.71698485,  0.70102462, -0.80573142, -1.77131604],\n",
       "       [-1.4571583 , -0.12260674, -0.53742538, -0.2781827 ],\n",
       "       [ 0.76151492,  2.10886137,  0.23929375, -0.21105201],\n",
       "       [ 0.84816997,  1.22463438, -0.7799023 , -0.23781242]])"
      ]
     },
     "execution_count": 24,
     "metadata": {},
     "output_type": "execute_result"
    },
    {
     "data": {
      "text/plain": [
       "array([[False,  True, False, False],\n",
       "       [False, False, False, False],\n",
       "       [ True,  True,  True, False],\n",
       "       [ True,  True, False, False]])"
      ]
     },
     "execution_count": 24,
     "metadata": {},
     "output_type": "execute_result"
    }
   ],
   "source": [
    "arr8 = np.random.randn(4,4)\n",
    "arr8\n",
    "arr8 > 0"
   ]
  },
  {
   "cell_type": "code",
   "execution_count": 25,
   "metadata": {},
   "outputs": [
    {
     "data": {
      "text/plain": [
       "array([[-1.        ,  0.70102462, -1.        , -1.        ],\n",
       "       [-1.        , -1.        , -1.        , -1.        ],\n",
       "       [ 0.76151492,  2.10886137,  0.23929375, -1.        ],\n",
       "       [ 0.84816997,  1.22463438, -1.        , -1.        ]])"
      ]
     },
     "execution_count": 25,
     "metadata": {},
     "output_type": "execute_result"
    }
   ],
   "source": [
    "np.where(arr8 < 0,-1 ,arr8)"
   ]
  },
  {
   "cell_type": "markdown",
   "metadata": {},
   "source": [
    "## Statistische und mathematische Methoden\n",
    "- Aggregation \n",
    " - mean\n",
    " - sum\n",
    " - std\n",
    "- Kumuative Werte\n",
    " - cumcum\n",
    " - cumprod"
   ]
  },
  {
   "cell_type": "code",
   "execution_count": 26,
   "metadata": {},
   "outputs": [
    {
     "data": {
      "text/plain": [
       "array([[-1.71698485,  0.70102462, -0.80573142, -1.77131604],\n",
       "       [-1.4571583 , -0.12260674, -0.53742538, -0.2781827 ],\n",
       "       [ 0.76151492,  2.10886137,  0.23929375, -0.21105201],\n",
       "       [ 0.84816997,  1.22463438, -0.7799023 , -0.23781242]])"
      ]
     },
     "execution_count": 26,
     "metadata": {},
     "output_type": "execute_result"
    },
    {
     "name": "stdout",
     "output_type": "stream",
     "text": [
      "Mittelwert:  -0.1271670736395917\n",
      "Standardabweichung:  1.0453760316436174\n",
      "Summe:  -2.0346731782334673\n",
      "\n",
      "Summe entlang der Spalten:  [-1.56445826  3.91191362 -1.88376535 -2.49836318]\n",
      "Summe entlang der Zeilen:  [-3.59300769 -2.39537313  2.89861802  1.05508962]\n"
     ]
    }
   ],
   "source": [
    "arr8\n",
    "print('Mittelwert: ', arr8.mean())\n",
    "print('Standardabweichung: ',arr8.std())\n",
    "print('Summe: ',arr8.sum())\n",
    "\n",
    "print('')\n",
    "print('Summe entlang der Spalten: ', arr8.sum(axis=0))\n",
    "print('Summe entlang der Zeilen: ', arr8.sum(axis=1))"
   ]
  },
  {
   "cell_type": "code",
   "execution_count": 27,
   "metadata": {},
   "outputs": [
    {
     "data": {
      "text/plain": [
       "array([[0, 1, 2],\n",
       "       [3, 4, 5],\n",
       "       [6, 7, 8]])"
      ]
     },
     "execution_count": 27,
     "metadata": {},
     "output_type": "execute_result"
    },
    {
     "name": "stdout",
     "output_type": "stream",
     "text": [
      "Kumulative Summe über Spalten:  [[ 0  1  2]\n",
      " [ 3  5  7]\n",
      " [ 9 12 15]]\n",
      "\n",
      "Kumulative Summe über Zeilen: "
     ]
    },
    {
     "data": {
      "text/plain": [
       "array([[ 0,  1,  3],\n",
       "       [ 3,  7, 12],\n",
       "       [ 6, 13, 21]], dtype=int32)"
      ]
     },
     "execution_count": 27,
     "metadata": {},
     "output_type": "execute_result"
    }
   ],
   "source": [
    "arr9 = np.array([[0,1,2],[3,4,5],[6,7,8]]); arr9\n",
    "print('Kumulative Summe über Spalten: ', arr9.cumsum(axis=0))\n",
    "\n",
    "print('')\n",
    "print('Kumulative Summe über Zeilen: ', end='')\n",
    "arr9.cumsum(axis=1)"
   ]
  },
  {
   "cell_type": "markdown",
   "metadata": {},
   "source": [
    "**Random Walk Example**"
   ]
  },
  {
   "cell_type": "code",
   "execution_count": 28,
   "metadata": {},
   "outputs": [
    {
     "name": "stdout",
     "output_type": "stream",
     "text": [
      "Time-Difference: 0.004536867141723633\n"
     ]
    }
   ],
   "source": [
    "import random\n",
    "position = 0\n",
    "walk = [position] # generate list\n",
    "steps = 1000\n",
    "\n",
    "t_start = time.time()\n",
    "for i in range(steps):\n",
    "    step = 1 if random.randint(0,1) else -1\n",
    "    position += step\n",
    "    walk.append(position)   \n",
    "t_end = time.time()\n",
    "\n",
    "print (\"Time-Difference:\", end=' ')\n",
    "print (t_end-t_start)"
   ]
  },
  {
   "cell_type": "code",
   "execution_count": 29,
   "metadata": {},
   "outputs": [
    {
     "data": {
      "text/plain": [
       "[<matplotlib.lines.Line2D at 0x1027fbd0>]"
      ]
     },
     "execution_count": 29,
     "metadata": {},
     "output_type": "execute_result"
    },
    {
     "data": {
      "image/png": "[encoded data removed]",
      "text/plain": [
       "<Figure size 432x288 with 1 Axes>"
      ]
     },
     "metadata": {
      "needs_background": "light"
     },
     "output_type": "display_data"
    }
   ],
   "source": [
    "plt.plot(walk[:100])\n",
    "plt.grid()"
   ]
  },
  {
   "cell_type": "code",
   "execution_count": 30,
   "metadata": {},
   "outputs": [
    {
     "name": "stdout",
     "output_type": "stream",
     "text": [
      "Time-Difference: 0.0\n"
     ]
    },
    {
     "data": {
      "text/plain": [
       "-3"
      ]
     },
     "execution_count": 30,
     "metadata": {},
     "output_type": "execute_result"
    },
    {
     "data": {
      "text/plain": [
       "27"
      ]
     },
     "execution_count": 30,
     "metadata": {},
     "output_type": "execute_result"
    }
   ],
   "source": [
    "# Alternative ohne Schleife\n",
    "\n",
    "t_start2 = time.time()\n",
    "nstep = 1000\n",
    "draws = np.random.randint(0,2, size=nstep)    # 1000 randomzahlen 0 oder 1\n",
    "steps = np.where(draws > 0, 1, -1)            # 0 wird -1 zugewiesen\n",
    "walk = steps.cumsum()                         # Kumulative Summe\n",
    "t_end2 = time.time()\n",
    "\n",
    "print (\"Time-Difference:\", end=' ')\n",
    "print (t_end2-t_start2)\n",
    "walk.min()\n",
    "walk.max()"
   ]
  },
  {
   "cell_type": "code",
   "execution_count": 31,
   "metadata": {},
   "outputs": [
    {
     "data": {
      "text/plain": [
       "[<matplotlib.lines.Line2D at 0xfaa54f0>]"
      ]
     },
     "execution_count": 31,
     "metadata": {},
     "output_type": "execute_result"
    },
    {
     "data": {
      "image/png": "[encoded data removed]",
      "text/plain": [
       "<Figure size 432x288 with 1 Axes>"
      ]
     },
     "metadata": {
      "needs_background": "light"
     },
     "output_type": "display_data"
    }
   ],
   "source": [
    "plt.plot(walk)"
   ]
  }
 ],
 "metadata": {
  "kernelspec": {
   "display_name": "Python 3",
   "language": "python",
   "name": "python3"
  },
  "language_info": {
   "codemirror_mode": {
    "name": "ipython",
    "version": 3
   },
   "file_extension": ".py",
   "mimetype": "text/x-python",
   "name": "python",
   "nbconvert_exporter": "python",
   "pygments_lexer": "ipython3",
   "version": "3.7.3"
  }
 },
 "nbformat": 4,
 "nbformat_minor": 2
}
